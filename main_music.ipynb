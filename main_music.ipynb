{
 "cells": [
  {
   "cell_type": "markdown",
   "metadata": {},
   "source": [
    "## Music-selectivity in DNN"
   ]
  },
  {
   "cell_type": "code",
   "execution_count": 1,
   "metadata": {},
   "outputs": [
    {
     "data": {
      "text/plain": [
       "<torch._C.Generator at 0x7f2a6ca3e130>"
      ]
     },
     "execution_count": 1,
     "metadata": {},
     "output_type": "execute_result"
    }
   ],
   "source": [
    "# Common\n",
    "import numpy as np\n",
    "import matplotlib.pyplot as plt\n",
    "import os; cwd = os.getcwd()\n",
    "import os.path as osp\n",
    "from argparse import Namespace\n",
    "from tqdm.notebook import tqdm\n",
    "import random\n",
    "import seaborn as sns\n",
    "import numpy.matlib\n",
    "import matplotlib.pyplot as plt\n",
    "import os\n",
    "import os.path as osp\n",
    "import pickle\n",
    "plt.rcParams['svg.fonttype'] = 'none'\n",
    "\n",
    "# Torch\n",
    "import torch\n",
    "import torch.nn as nn\n",
    "import torch.nn.functional as F\n",
    "import torch.optim as optim\n",
    "from torch.nn.utils.rnn import pad_sequence\n",
    "from torch.utils.data import DataLoader, random_split, Dataset\n",
    "import torchaudio as ta\n",
    "\n",
    "# etc\n",
    "from audioset import AudioSet, AudioSet2, AudioSet_shuffle\n",
    "from imresize import *\n",
    "\n",
    "# sklearn\n",
    "from sklearn import metrics\n",
    "from sklearn.preprocessing import StandardScaler\n",
    "from sklearn.datasets import make_classification\n",
    "from sklearn.decomposition import PCA\n",
    "from sklearn.svm import LinearSVC\n",
    "from sklearn.linear_model import LinearRegression\n",
    "from sklearn.manifold import TSNE\n",
    "from sklearn.pipeline import Pipeline\n",
    "from sklearn.pipeline import make_pipeline\n",
    "from sklearn.metrics import average_precision_score, brier_score_loss, \\\n",
    "    log_loss, roc_auc_score\n",
    "from sklearn.metrics import explained_variance_score, mean_absolute_error, \\\n",
    "    mean_squared_error, median_absolute_error, r2_score\n",
    "\n",
    "use_cuda = torch.cuda.is_available()\n",
    "torch.manual_seed(7)\n"
   ]
  },
  {
   "cell_type": "code",
   "execution_count": 2,
   "metadata": {},
   "outputs": [],
   "source": [
    "opt = Namespace()\n",
    "opt.batch_size = 32\n",
    "opt.epochs = 30\n",
    "opt.lr = 0.001 # 0.001\n",
    "opt.device = torch.device(\"cuda\" if use_cuda else \"cpu\")\n",
    "opt.name = 'cnn_audioset_nomusic'\n",
    "dr = 0.2 # dropout rate\n",
    "\n",
    "datadir = '/home/kgspiano/Music_selectivity/data/AudioSet'"
   ]
  },
  {
   "cell_type": "code",
   "execution_count": 3,
   "metadata": {},
   "outputs": [],
   "source": [
    "def binarizer(idx):\n",
    "    tmp = torch.zeros(num_class)\n",
    "    tmp[idx] = 1\n",
    "    return tmp\n",
    "def collate_fn(batch):\n",
    "    waveforms = pad_sequence(\n",
    "        [torch.from_numpy(b[0]).float() for b in batch], \n",
    "        batch_first=True)\n",
    "    waveforms = waveforms.reshape(waveforms.shape[0], 1, -1)\n",
    "    targets = torch.stack([binarizer(b[1]) for b in batch])\n",
    "    return waveforms, targets\n",
    "def cm2inch(*tupl):\n",
    "    inch = 2.54\n",
    "    if isinstance(tupl[0], tuple):\n",
    "        return tuple(i/inch for i in tupl[0])\n",
    "    else:\n",
    "        return tuple(i/inch for i in tupl)"
   ]
  },
  {
   "cell_type": "markdown",
   "metadata": {},
   "source": [
    "#### Loading data for training"
   ]
  },
  {
   "cell_type": "code",
   "execution_count": 4,
   "metadata": {},
   "outputs": [],
   "source": [
    "tmpset = AudioSet(datadir, train=False)\n",
    "classes = tmpset.idx2class\n",
    "reverse_dict= dict(map(reversed,classes.items()))\n",
    "\n",
    "## music categories in Music hierarchy  \n",
    "Musicrelatedind = []\n",
    "Omittedclasses = []\n",
    "Music_categories = np.load('Music_categories.npy').tolist()\n",
    "for key1 in Music_categories:\n",
    "    if key1 in reverse_dict:\n",
    "        Musicrelatedind.append(reverse_dict[key1])\n",
    "    else:\n",
    "        Omittedclasses.append(key1)\n",
    "\n",
    "        \n",
    "        \n",
    "## Music categories in Human Voice hierarchy \n",
    "HV_categories = ['Singing','Humming', 'Yodeling', 'Chant', 'Male singing', 'Female singing', 'Child singing', 'Synthetic singing', 'Rapping']\n",
    "\n",
    "HVrelatedind = []\n",
    "for key1 in HV_categories:\n",
    "    if key1 in reverse_dict:\n",
    "        HVrelatedind.append(reverse_dict[key1])\n",
    "    else:\n",
    "        Omittedclasses.append(key1)                \n"
   ]
  },
  {
   "cell_type": "code",
   "execution_count": 5,
   "metadata": {},
   "outputs": [],
   "source": [
    "## Manual check of the presence of music\n",
    "import pandas as pd\n",
    "import openpyxl\n",
    "df = pd.read_excel('filenames.xlsx', usecols = [0])\n",
    "val_list = df.values.tolist()\n",
    "name_err = []\n",
    "name_err.append(df.columns.tolist()[0][6:] + '.gz')\n",
    "for i,tmp in enumerate(val_list):\n",
    "    if i<4:\n",
    "        name_err.append(tmp[0][6:] + '.gz')\n",
    "    else:\n",
    "        name_err.append(tmp[0] + '.gz')\n",
    "\n",
    "deleteid = name_err"
   ]
  },
  {
   "cell_type": "code",
   "execution_count": 6,
   "metadata": {},
   "outputs": [],
   "source": [
    "## Loading data without music\n",
    "A = HVrelatedind\n",
    "# A = ['Singing','Humming', 'yodeling', 'chant', 'Male singing', 'Female singing', 'Child singing', 'Synthetic singing', 'Rapping']\n",
    "B = Musicrelatedind\n",
    "Musicrelatedind_all = list(set(A) | set(B))\n",
    "\n",
    "torch.manual_seed(0)\n",
    "deleteidx = np.array(Musicrelatedind_all)\n",
    "\n",
    "# testset = AudioSet2('data/AudioSet/', train=False, deleteidx= deleteidx, deleteid = deleteid)\n",
    "# dataset = AudioSet2('data/AudioSet/', train=True, deleteidx= deleteidx, deleteid = deleteid)\n",
    "testset = AudioSet2(datadir, train=False, deleteidx= deleteidx, deleteid = deleteid)\n",
    "dataset = AudioSet2(datadir, train=True, deleteidx= deleteidx, deleteid = deleteid)\n",
    "trainset, validset = random_split(dataset, [round(len(dataset)*.9), round(len(dataset)*.1)])\n",
    "num_class = testset.n_class\n",
    "bs = opt.batch_size\n",
    "n_workers = 0\n",
    "isshufflelabel = 0\n",
    "\n",
    "\n",
    "val_loader = torch.utils.data.DataLoader(\n",
    "    validset,\n",
    "    batch_size=bs, shuffle=True, collate_fn=collate_fn,\n",
    "    num_workers=n_workers, pin_memory=False)\n",
    "train_loader = torch.utils.data.DataLoader(\n",
    "    trainset,\n",
    "    batch_size=bs, shuffle=True, collate_fn=collate_fn,\n",
    "    num_workers=n_workers, pin_memory=False)\n",
    "\n",
    "test_loader = torch.utils.data.DataLoader(\n",
    "    testset,\n",
    "    batch_size=bs, shuffle=True, collate_fn=collate_fn,\n",
    "    num_workers=n_workers, pin_memory=False)\n",
    "\n"
   ]
  },
  {
   "cell_type": "code",
   "execution_count": 7,
   "metadata": {},
   "outputs": [],
   "source": [
    "dataiter = iter(val_loader)\n",
    "wavtmp, labels = dataiter.next()\n",
    "samplingrate = wavtmp.shape[2]/10 # samplingrate, total 10 s\n",
    "winlen = int(np.round(samplingrate*1/40))\n",
    "\n",
    "mel_spectrogram = nn.Sequential(\n",
    "    ta.transforms.MelSpectrogram(n_mels=64, sample_rate = samplingrate, win_length = winlen, n_fft = winlen, f_min = 0, f_max = 8000, normalized=False),\n",
    "    ta.transforms.AmplitudeToDB()\n",
    ")"
   ]
  },
  {
   "cell_type": "markdown",
   "metadata": {},
   "source": [
    "#### CNN model"
   ]
  },
  {
   "cell_type": "code",
   "execution_count": 8,
   "metadata": {},
   "outputs": [],
   "source": [
    "\n",
    "class AudioCNN(nn.Module):\n",
    "    def __init__(self, num_class):\n",
    "        super(AudioCNN,self).__init__()\n",
    "\n",
    "        self.spec = mel_spectrogram\n",
    "        self.conv1 = nn.Sequential(\n",
    "            nn.Conv2d(in_channels=1, out_channels=32, kernel_size=5, stride=(2, 4), bias = False),\n",
    "            nn.BatchNorm2d(32),\n",
    "            nn.ReLU(inplace=True),\n",
    "            nn.MaxPool2d(kernel_size=2, stride=2),\n",
    "            nn.Dropout(dr),\n",
    "        )\n",
    "\n",
    "        self.conv2 = nn.Sequential(\n",
    "            nn.Conv2d(in_channels=32, out_channels=64,kernel_size=5,stride=1, bias = False),\n",
    "            nn.BatchNorm2d(64), \n",
    "            nn.ReLU(inplace=True),\n",
    "            nn.MaxPool2d(kernel_size=2, stride=1),\n",
    "            nn.Conv2d(in_channels=64, out_channels=128,kernel_size=5,stride=1, bias = False),\n",
    "            nn.BatchNorm2d(128),\n",
    "            nn.ReLU(inplace=True),\n",
    "            nn.MaxPool2d(kernel_size=2, stride=1),\n",
    "            nn.Dropout(dr),\n",
    "        )\n",
    "            \n",
    "        self.conv3 = nn.Sequential(\n",
    "            nn.Conv2d(in_channels=128, out_channels=256, kernel_size=5, stride=1, bias=False),\n",
    "            nn.BatchNorm2d(256),\n",
    "            nn.ReLU(inplace=True),\n",
    "            nn.Dropout(dr),\n",
    "        )\n",
    "        \n",
    "        self.avgpool = nn.AdaptiveAvgPool2d((1, 1))\n",
    "        \n",
    "        self.fc1 = nn.Sequential(\n",
    "            nn.Linear(256, 256),\n",
    "            nn.ReLU(inplace=True),\n",
    "            nn.Dropout(dr),\n",
    "        )\n",
    "        \n",
    "        self.fc2 = nn.Linear(256, num_class)\n",
    "        \n",
    "    def forward(self, x):\n",
    "        x = self.spec(x)\n",
    "        x = self.conv1(x)\n",
    "        x = self.conv2(x)\n",
    "        x = self.conv3(x)\n",
    "        x = torch.flatten(self.avgpool(x), 1)\n",
    "        x = self.fc1(x)\n",
    "        x = self.fc2(x)\n",
    "\n",
    "        return x \n",
    "    "
   ]
  },
  {
   "cell_type": "markdown",
   "metadata": {},
   "source": [
    "#### Network training"
   ]
  },
  {
   "cell_type": "code",
   "execution_count": 9,
   "metadata": {},
   "outputs": [],
   "source": [
    "def train(opt, model, train_loader, optim, scheduler, criterion, epoch):\n",
    "    \n",
    "    model.train()\n",
    "    train_loss = 0; total = 0; total_correct = 0\n",
    "    for inputs, targets in train_loader:\n",
    "        inputs,targets = inputs.to(opt.device), targets.to(opt.device)\n",
    "        optim.zero_grad()\n",
    "        outputs = model(inputs)\n",
    "        loss = criterion(outputs, targets)\n",
    "        loss.backward()\n",
    "        optim.step()\n",
    "        scheduler.step()\n",
    "        train_loss += loss.item()\n",
    "        total += targets.size(0)\n",
    "    \n",
    "        outputs = torch.sigmoid(outputs)\n",
    "\n",
    "        with torch.no_grad():\n",
    "            target = targets.cpu().detach().numpy().flatten()\n",
    "            output = outputs.cpu().detach().numpy().flatten()\n",
    "            total_correct += metrics.average_precision_score(target, output, average='micro')\n",
    "\n",
    "    acc = 100. * total_correct/ len(train_loader) #total\n",
    "    accuracies_tr.append(acc)\n",
    "\n",
    "#     print(\"Train Epoch: [{}]  loss: [{:.2f}] Accuracy [{:.2f}] \".format(epoch+1, train_loss/len(train_loader), acc))\n",
    "\n",
    "\n",
    "    \n",
    "def validate(opt, model, test_loader, criterion, epoch):\n",
    "    global best_acc\n",
    "    model.eval()\n",
    "    test_loss, total, total_correct, = 0,0,0\n",
    "    \n",
    "    for inputs, targets in test_loader:\n",
    "        inputs, targets = inputs.to(opt.device), targets.to(opt.device)\n",
    "        outputs = model(inputs)\n",
    "        loss = criterion(outputs, targets)\n",
    "        test_loss += loss.item()\n",
    "        total += targets.size(0)\n",
    "        outputs = torch.sigmoid(outputs)\n",
    "        with torch.no_grad():\n",
    "            target = targets.cpu().detach().numpy().flatten()\n",
    "            output = outputs.cpu().detach().numpy().flatten()\n",
    "            total_correct += metrics.average_precision_score(target, output, average='micro')\n",
    "    # Save checkpoint when best model\n",
    "    acc = 100. * total_correct / len(test_loader) #total\n",
    "    accuracies_val.append(acc)\n",
    "   \n",
    "    print(\"Validation Epoch: [{}]  loss: [{:.2f}] Accuracy [{:.2f}] \".format(epoch+1, test_loss/len(test_loader), acc))\n",
    "    \n",
    "\n",
    "    if acc > best_acc:\n",
    "        if isinstance(model, torch.nn.DataParallel):\n",
    "            print('Saving Best model...\\t\\t\\tTop1 = %.2f%%' %(acc))\n",
    "            state = {\n",
    "                'model':model.module.state_dict(),\n",
    "                'model1': model.state_dict(),\n",
    "                'model2': model,\n",
    "                'acc':acc,\n",
    "                'epoch':epoch,\n",
    "                'loss':loss,\n",
    "            }\n",
    "        \n",
    "        else:\n",
    "            print('Saving Best model...\\t\\t\\tTop1 = %.2f%%' %(acc))\n",
    "            state = {\n",
    "                    'model':model,\n",
    "                    'acc':acc,\n",
    "                    'epoch':epoch,\n",
    "                    }      \n",
    "            \n",
    "        if not osp.isdir('checkpoint'):\n",
    "            os.mkdir('checkpoint')\n",
    "        save_point = './checkpoint/'\n",
    "        if not os.path.isdir(save_point):\n",
    "            os.mkdir(save_point)\n",
    "        torch.save(state, save_point + opt.name + '.t7')\n",
    "        best_acc = acc\n",
    "    return best_acc"
   ]
  },
  {
   "cell_type": "code",
   "execution_count": 10,
   "metadata": {},
   "outputs": [
    {
     "name": "stdout",
     "output_type": "stream",
     "text": [
      "Save random model\n"
     ]
    },
    {
     "data": {
      "application/vnd.jupyter.widget-view+json": {
       "model_id": "228e8cfbb6af4c36af1f16197fdcd49e",
       "version_major": 2,
       "version_minor": 0
      },
      "text/plain": [
       "  0%|          | 0/30 [00:00<?, ?it/s]"
      ]
     },
     "metadata": {},
     "output_type": "display_data"
    },
    {
     "name": "stdout",
     "output_type": "stream",
     "text": [
      "Validation Epoch: [1]  loss: [0.03] Accuracy [8.40] \n",
      "Saving Best model...\t\t\tTop1 = 8.40%\n",
      "Validation Epoch: [2]  loss: [0.02] Accuracy [10.66] \n",
      "Saving Best model...\t\t\tTop1 = 10.66%\n",
      "Validation Epoch: [3]  loss: [0.02] Accuracy [11.56] \n",
      "Saving Best model...\t\t\tTop1 = 11.56%\n",
      "Validation Epoch: [4]  loss: [0.02] Accuracy [11.89] \n",
      "Saving Best model...\t\t\tTop1 = 11.89%\n",
      "Validation Epoch: [5]  loss: [0.02] Accuracy [8.80] \n",
      "Validation Epoch: [6]  loss: [0.02] Accuracy [9.70] \n",
      "Validation Epoch: [7]  loss: [0.02] Accuracy [12.86] \n",
      "Saving Best model...\t\t\tTop1 = 12.86%\n",
      "Validation Epoch: [8]  loss: [0.02] Accuracy [15.28] \n",
      "Saving Best model...\t\t\tTop1 = 15.28%\n",
      "Validation Epoch: [9]  loss: [0.02] Accuracy [13.22] \n",
      "Validation Epoch: [10]  loss: [0.02] Accuracy [14.74] \n",
      "Validation Epoch: [11]  loss: [0.02] Accuracy [14.14] \n",
      "Validation Epoch: [12]  loss: [0.02] Accuracy [13.59] \n",
      "Validation Epoch: [13]  loss: [0.02] Accuracy [17.17] \n",
      "Saving Best model...\t\t\tTop1 = 17.17%\n",
      "Validation Epoch: [14]  loss: [0.02] Accuracy [15.28] \n",
      "Validation Epoch: [15]  loss: [0.02] Accuracy [18.74] \n",
      "Saving Best model...\t\t\tTop1 = 18.74%\n",
      "Validation Epoch: [16]  loss: [0.02] Accuracy [18.82] \n",
      "Saving Best model...\t\t\tTop1 = 18.82%\n",
      "Validation Epoch: [17]  loss: [0.02] Accuracy [12.68] \n",
      "Validation Epoch: [18]  loss: [0.02] Accuracy [19.13] \n",
      "Saving Best model...\t\t\tTop1 = 19.13%\n",
      "Validation Epoch: [19]  loss: [0.02] Accuracy [19.56] \n",
      "Saving Best model...\t\t\tTop1 = 19.56%\n",
      "Validation Epoch: [20]  loss: [0.02] Accuracy [22.15] \n",
      "Saving Best model...\t\t\tTop1 = 22.15%\n",
      "Validation Epoch: [21]  loss: [0.02] Accuracy [20.33] \n",
      "Validation Epoch: [22]  loss: [0.02] Accuracy [18.42] \n",
      "Validation Epoch: [23]  loss: [0.02] Accuracy [17.09] \n",
      "Validation Epoch: [24]  loss: [0.02] Accuracy [23.58] \n",
      "Saving Best model...\t\t\tTop1 = 23.58%\n",
      "Validation Epoch: [25]  loss: [0.02] Accuracy [23.36] \n",
      "Validation Epoch: [26]  loss: [0.02] Accuracy [19.19] \n",
      "Validation Epoch: [27]  loss: [0.02] Accuracy [25.91] \n",
      "Saving Best model...\t\t\tTop1 = 25.91%\n",
      "Validation Epoch: [28]  loss: [0.02] Accuracy [24.62] \n",
      "Validation Epoch: [29]  loss: [0.02] Accuracy [26.10] \n",
      "Saving Best model...\t\t\tTop1 = 26.10%\n",
      "Validation Epoch: [30]  loss: [0.02] Accuracy [26.73] \n",
      "Saving Best model...\t\t\tTop1 = 26.73%\n"
     ]
    }
   ],
   "source": [
    "iterind = 0\n",
    "np.seterr(divide='ignore', invalid='ignore')\n",
    "torch.manual_seed(iterind)\n",
    "best_acc = 0\n",
    "accuracies_tr = []\n",
    "accuracies_val = []\n",
    "model = AudioCNN(num_class)\n",
    "model = model.to(opt.device)\n",
    "\n",
    "if isinstance(model, torch.nn.DataParallel):\n",
    "    print('Save random model')\n",
    "    state = {\n",
    "        'model':model.module.state_dict(),\n",
    "        'model1': model.state_dict(),\n",
    "        'model2': model,\n",
    "    }\n",
    "else:\n",
    "    print('Save random model')\n",
    "    state = {\n",
    "            'model':model,\n",
    "            }      \n",
    "\n",
    "if not osp.isdir('checkpoint'):\n",
    "    os.mkdir('checkpoint')\n",
    "save_point = './checkpoint/'\n",
    "if not os.path.isdir(save_point):\n",
    "    os.mkdir(save_point)\n",
    "torch.save(state, save_point + opt.name + 'rand.t7')\n",
    "criterion = nn.BCEWithLogitsLoss()\n",
    "optimizer = torch.optim.AdamW(model.parameters(), lr=opt.lr)\n",
    "scheduler = torch.optim.lr_scheduler.OneCycleLR(optimizer, max_lr=0.001,\n",
    "                                              steps_per_epoch=int(len(train_loader)),\n",
    "                                              epochs=opt.epochs,\n",
    "                                              anneal_strategy='linear')\n",
    "for epoch in tqdm(range(opt.epochs)):\n",
    "    train(opt, model, train_loader, optimizer, scheduler, criterion, epoch)\n",
    "    best_acc = validate(opt, model, val_loader, criterion, epoch)"
   ]
  },
  {
   "cell_type": "markdown",
   "metadata": {},
   "source": [
    "#### Loading Data for testing music-selectivity"
   ]
  },
  {
   "cell_type": "code",
   "execution_count": 11,
   "metadata": {},
   "outputs": [],
   "source": [
    "testset = AudioSet(datadir, train=False)\n",
    "dataset = AudioSet(datadir, train=True)\n",
    "trainset, validset = random_split(dataset, [round(len(dataset)*.9), round(len(dataset)*.1)])\n",
    "num_class = testset.n_class\n",
    "bs = opt.batch_size\n",
    "n_workers = 0\n",
    "\n",
    "val_loader = torch.utils.data.DataLoader(\n",
    "    validset,\n",
    "    batch_size=bs, shuffle=False, collate_fn=collate_fn,\n",
    "    num_workers=n_workers, pin_memory=False)\n",
    "train_loader = torch.utils.data.DataLoader(\n",
    "    trainset,\n",
    "    batch_size=bs, shuffle=False, collate_fn=collate_fn,\n",
    "    num_workers=n_workers, pin_memory=False)\n",
    "test_loader = torch.utils.data.DataLoader(\n",
    "    testset,\n",
    "    batch_size=bs, shuffle=False, collate_fn=collate_fn,\n",
    "    num_workers=n_workers, pin_memory=False)\n",
    "\n",
    "labelismusic = np.array([True if i in Musicrelatedind else False for i in range(527)])"
   ]
  },
  {
   "cell_type": "markdown",
   "metadata": {},
   "source": [
    "#### Testing natural sound recognition performance"
   ]
  },
  {
   "cell_type": "code",
   "execution_count": 12,
   "metadata": {},
   "outputs": [],
   "source": [
    "class Evaluator(object):\n",
    "    def __init__(self, model):\n",
    "\n",
    "        self.model = model\n",
    "        \n",
    "    def evaluate(self, data_loader):\n",
    "\n",
    "        clipwise_output = []\n",
    "        target = []\n",
    "\n",
    "        for inputs, targets in data_loader:\n",
    "            inputs, targets = inputs.to(opt.device), targets.to(opt.device)\n",
    "            outputs = self.model(inputs)\n",
    "            outputs = torch.sigmoid(outputs)\n",
    "            if len(clipwise_output) ==0:\n",
    "                clipwise_output = outputs\n",
    "                target = targets\n",
    "            else:\n",
    "                clipwise_output = torch.cat((clipwise_output, outputs), dim=0)\n",
    "                target = torch.cat((target, targets), dim=0)\n",
    "        clipwise_output = clipwise_output.cpu()\n",
    "        target = target.cpu()\n",
    "        average_precision = metrics.average_precision_score(\n",
    "            target, clipwise_output, average=None)\n",
    "    \n",
    "        statistics = {'average_precision': average_precision, 'output':clipwise_output}\n",
    "\n",
    "        return statistics\n",
    "    \n",
    "    def evaluate_chance(self, data_loader):\n",
    "        clipwise_output = []\n",
    "        target = []\n",
    "\n",
    "        for inputs, targets in data_loader:\n",
    "            inputs, targets = inputs.to(opt.device), targets.to(opt.device)\n",
    "            outputs = self.model(inputs)\n",
    "            outputs = torch.sigmoid(outputs)\n",
    "            if len(clipwise_output) ==0:\n",
    "                clipwise_output = outputs\n",
    "                target = targets\n",
    "            else:\n",
    "                clipwise_output = torch.cat((clipwise_output, outputs), dim=0)\n",
    "                target = torch.cat((target, targets), dim=0)\n",
    "        clipwise_output = clipwise_output.cpu()*0+1\n",
    "        \n",
    "        target = target.cpu()\n",
    "        average_precision = metrics.average_precision_score(\n",
    "            target, clipwise_output, average=None)\n",
    "\n",
    "        statistics = {'average_precision': average_precision, 'output':clipwise_output}\n",
    "\n",
    "        return statistics"
   ]
  },
  {
   "cell_type": "code",
   "execution_count": 13,
   "metadata": {},
   "outputs": [
    {
     "name": "stdout",
     "output_type": "stream",
     "text": [
      "Net:trained without music, nonmusic detection performance\n",
      "mean±std: mean average precision = 0.10923704147650512\n",
      "chance mAP = 0.004525523132575321\n",
      "Net:trained without music, music detection performance\n",
      "mean±std: mean average precision = 0.007335318346331586\n",
      "chance mAP = 0.00564257252448516\n",
      "CPU times: user 7min 31s, sys: 5.81 s, total: 7min 37s\n",
      "Wall time: 3min 14s\n"
     ]
    }
   ],
   "source": [
    "%%time\n",
    "\n",
    "checkpoint = torch.load('checkpoint/' + 'cnn_audioset_nomusic' + '.t7')\n",
    "model = checkpoint['model']\n",
    "model.eval() # evaluation mode\n",
    "\n",
    "# Get test statistics\n",
    "evaluator = Evaluator(model=model)\n",
    "with torch.no_grad():\n",
    "    test_statistics = evaluator.evaluate(test_loader)\n",
    "# chance\n",
    "evaluator = Evaluator(model=model)\n",
    "with torch.no_grad():\n",
    "    test_statistics_chance = evaluator.evaluate_chance(test_loader)\n",
    "\n",
    "print('Net:trained without music, nonmusic detection performance')\n",
    "print('mean'+ u\"\\u00B1\" + 'std: mean average precision = ' + str(np.mean(test_statistics['average_precision'][~labelismusic]))) \n",
    "print('chance mAP = ' + str(np.mean(test_statistics_chance['average_precision'][~labelismusic])))\n",
    "\n",
    "print('Net:trained without music, music detection performance')\n",
    "print('mean'+ u\"\\u00B1\" + 'std: mean average precision = ' + str(np.mean(test_statistics['average_precision'][labelismusic]))) \n",
    "print('chance mAP = ' + str(np.mean(test_statistics_chance['average_precision'][labelismusic])))\n",
    "\n",
    "    "
   ]
  },
  {
   "cell_type": "markdown",
   "metadata": {
    "tags": []
   },
   "source": [
    "#### Extracting feature vectors"
   ]
  },
  {
   "cell_type": "code",
   "execution_count": 14,
   "metadata": {
    "tags": []
   },
   "outputs": [],
   "source": [
    "\n",
    "LOI = 'avgpool' # feature extraction layer\n",
    "def get_module(model, name):\n",
    "    sub_module = model\n",
    "    for n in name.split('.'):\n",
    "        sub_module = sub_module._modules[n]\n",
    "    return sub_module\n",
    "\n",
    "# get feature vectors from trained/random network\n",
    "def get_feature(model, data_loader):\n",
    "    with torch.no_grad():\n",
    "        ismusiclabel = []\n",
    "        isnonmusiclabel = []\n",
    "\n",
    "        featuretmp = []\n",
    "        for inputs, targets in data_loader:\n",
    "            for i in np.arange(targets.shape[0]):\n",
    "                ismusiclabel.append(not any(np.logical_not([x in Musicrelatedind for x in np.where(targets[i, :])[0]])))\n",
    "                isnonmusiclabel.append(not any(([x in Musicrelatedind for x in np.where(targets[i, :])[0]])))\n",
    "                \n",
    "            x = inputs[:,:,:].float().to(opt.device)\n",
    "            features_blobs = {}\n",
    "            hooks = []\n",
    "            layers = [LOI]\n",
    "            for layer in layers:\n",
    "                m = get_module(model, layer)\n",
    "                def hook_feature(layer):\n",
    "                    def _hook(module, input, output):\n",
    "                        features_blobs[layer] = output.detach().cpu().numpy()\n",
    "                    return _hook\n",
    "                hooks.append(m.register_forward_hook(hook_feature(layer)))\n",
    "\n",
    "            with torch.no_grad():\n",
    "                model(x)\n",
    "                for hook in hooks:\n",
    "                    hook.remove()\n",
    "            fvtmp = features_blobs[LOI] # Activation\n",
    "            if len(featuretmp)==0:\n",
    "                featuretmp = fvtmp\n",
    "            else:    \n",
    "                featuretmp = np.concatenate((featuretmp, fvtmp), axis = 0)\n",
    "        featuretmp = np.squeeze(featuretmp)\n",
    "        ismusic = np.array(ismusiclabel) \n",
    "        isnonmusic = np.array(isnonmusiclabel)\n",
    "        fv = {}\n",
    "        fv['fv'] = featuretmp\n",
    "        fv['ismusic'] = ismusic\n",
    "        fv['isnonmusic'] = isnonmusic\n",
    "\n",
    "        return fv    "
   ]
  },
  {
   "cell_type": "markdown",
   "metadata": {},
   "source": [
    "#### Defining Segregation Index"
   ]
  },
  {
   "cell_type": "code",
   "execution_count": 15,
   "metadata": {
    "tags": []
   },
   "outputs": [],
   "source": [
    "## Analysis of tSNE space\n",
    "isBC = True \n",
    "def getMSI(points, ismusic, isnonmusic, BC = False):\n",
    "    nbin = 64\n",
    "    xs = points[:,0]\n",
    "    ys = points[:,1]\n",
    "    xmin = np.min(xs)\n",
    "    xmax = np.max(xs)\n",
    "    ymin = np.min(ys)\n",
    "    ymax = np.max(ys)\n",
    "    rg = [[xmin, xmax], [ymin, ymax]]\n",
    "    Hmusic, xedges, yedges = np.histogram2d(xs[ismusic], ys[ismusic], bins = nbin, density = True)\n",
    "    Hnonmusic, xedges, yedges = np.histogram2d(xs[isnonmusic], ys[isnonmusic], bins = nbin, density = True)\n",
    "    Hmusic = Hmusic/np.sum(Hmusic)\n",
    "    Hnonmusic = Hnonmusic/np.sum(Hnonmusic)\n",
    "    BC = (np.sum(np.sqrt(Hmusic*Hnonmusic)))\n",
    "    SI = 1-BC\n",
    "    return SI\n"
   ]
  },
  {
   "cell_type": "markdown",
   "metadata": {},
   "source": [
    "#### Visualizing tSNE embedding"
   ]
  },
  {
   "cell_type": "code",
   "execution_count": 16,
   "metadata": {},
   "outputs": [],
   "source": [
    "# Visualization of tSNE embedding: music vs nonmusic\n",
    "bline = 0.1\n",
    "cherry = np.array([139, 0, 0, 255*bline])/255 # actually dark red\n",
    "sapphire = np.array([0, 0,128, 255*bline])/255 # navy\n",
    "import matplotlib.patches as  mpatches\n",
    "def tSNE_visualization(name, isA, isnonA, isscatter = False, label1 = 'Music', label2 = 'Non-music'):\n",
    "\n",
    "    fv = featurevectors[name]['fv']\n",
    "    ismusic = isA\n",
    "    isnonmusic = isnonA\n",
    "    points = embeddings['method:TSNE, ' + name]\n",
    "    xs = points[:,0]\n",
    "    ys = points[:,1]\n",
    "    \n",
    "    fig = plt.figure() #(figsize = cm2inch(4.2, 4.2))\n",
    "    levels = np.array([0.2, 0.4, 0.6, 0.8])\n",
    "    for level in levels:\n",
    "        sns.kdeplot(x=xs[ismusic], y=ys[ismusic], shade=False, bw_adjust=1, levels = [level], color = level*np.array([0,0,0,1-bline])+cherry)\n",
    "        sns.kdeplot(x=xs[isnonmusic], y=ys[isnonmusic], shade=False, bw_adjust=1, levels = [level], color = level*np.array([0,0,0,1-bline])+sapphire)\n",
    "\n",
    "    handles = [mpatches.Patch(facecolor=np.array([139, 0, 0, 180])/255, label=label1),\n",
    "       mpatches.Patch(facecolor=np.array([0, 0,128, 180])/255, label=label2)]\n",
    "#     plt.legend(handles=handles, bbox_to_anchor=(0.95, 0.95, 0.3, 0.2), loc='upper right')\n",
    "    plt.legend(handles=handles)\n",
    "#         plt.xticks(fontsize = 6)\n",
    "#         plt.yticks(fontsize = 6)\n",
    "    plt.xticks(np.arange(-50, 51, 50), labels=['-50', '0', '50'])\n",
    "    plt.yticks(np.arange(-50, 51, 50), labels=['-50', '0', '50'])\n",
    "\n",
    "    SI = getMSI(points, ismusic, isnonmusic, BC = isBC)\n",
    "    print('SI = ' + str(SI))\n",
    "    return SI\n"
   ]
  },
  {
   "cell_type": "code",
   "execution_count": 17,
   "metadata": {},
   "outputs": [
    {
     "name": "stdout",
     "output_type": "stream",
     "text": [
      "CPU times: user 7min 43s, sys: 27.4 s, total: 8min 10s\n",
      "Wall time: 4min 52s\n"
     ]
    }
   ],
   "source": [
    "%%time\n",
    "checkpoint = torch.load('checkpoint/' + 'cnn_audioset_nomusic' + '.t7')\n",
    "model = checkpoint['model']\n",
    "model.eval() # evaluation mode\n",
    "featurevectors = {} \n",
    "key_test = 'data:test, net:trained_nomusic'\n",
    "key_train = 'data:train, net:trained_nomusic'\n",
    "featurevectors[key_test] = get_feature(model, test_loader) # tuple: fv, ismusic, isnonmusic, isspeech\n",
    "featurevectors[key_train] = get_feature(model, train_loader) # tuple: fv, ismusic, isnonmusic, isspeech\n"
   ]
  },
  {
   "cell_type": "code",
   "execution_count": 18,
   "metadata": {},
   "outputs": [
    {
     "name": "stdout",
     "output_type": "stream",
     "text": [
      "SI = 0.6715967413731515\n",
      "CPU times: user 9min 39s, sys: 528 ms, total: 9min 40s\n",
      "Wall time: 4min 7s\n"
     ]
    },
    {
     "data": {
      "image/png": "[encoded data removed]",
      "text/plain": [
       "<Figure size 432x288 with 1 Axes>"
      ]
     },
     "metadata": {
      "needs_background": "light"
     },
     "output_type": "display_data"
    }
   ],
   "source": [
    "%%time\n",
    "ismusic = featurevectors[key_test]['ismusic']\n",
    "isnonmusic = featurevectors[key_test]['isnonmusic']\n",
    "ismusic_tr = featurevectors[key_train]['ismusic']\n",
    "isnonmusic_tr = featurevectors[key_train]['isnonmusic']\n",
    "\n",
    "embeddings = {}\n",
    "SIstmp = []\n",
    "fv = featurevectors[key_test]['fv']\n",
    "tSNE = Pipeline([('scaling', StandardScaler()), ('tSNE', TSNE(n_components=2))])\n",
    "points = tSNE.fit_transform(fv)\n",
    "embeddings['method:TSNE, ' + key_test] = points\n",
    "\n",
    "SI = tSNE_visualization(key_test, ismusic, isnonmusic)\n"
   ]
  },
  {
   "cell_type": "markdown",
   "metadata": {},
   "source": [
    "#### tSNE embedding of testset (Checking Music/nonmusic clustering)"
   ]
  },
  {
   "cell_type": "code",
   "execution_count": 19,
   "metadata": {},
   "outputs": [
    {
     "data": {
      "image/png": "[encoded data removed]",
      "text/plain": [
       "<Figure size 432x288 with 1 Axes>"
      ]
     },
     "metadata": {
      "needs_background": "light"
     },
     "output_type": "display_data"
    }
   ],
   "source": [
    "plt.figure()\n",
    "fv = featurevectors[key_test];\n",
    "tmp1 = np.mean(fv['fv'][ismusic, :], axis = 1).flatten()\n",
    "tmp2 = np.mean(fv['fv'][isnonmusic, :], axis=1).flatten()\n",
    "plt.hist(tmp2, alpha = 0.6, label = 'Nonmusic', weights=np.ones(len(tmp2)) / len(tmp2), bins = np.arange(0,1,0.04), color = 'lightblue')\n",
    "plt.hist(tmp1, alpha = 0.6, label = 'Music', weights=np.ones(len(tmp1)) / len(tmp1), bins = np.arange(0,1,0.04), color = 'pink')\n",
    "plt.xlabel('Average response')\n",
    "plt.ylabel('Portion')\n",
    "plt.plot([np.mean(tmp1), np.mean(tmp1)], [0, 0.2], color='red')\n",
    "plt.plot([np.mean(tmp2), np.mean(tmp2)], [0, 0.2], color='blue')\n",
    "plt.legend()\n",
    "plt.yticks(np.arange(0, 0.21,0.05))  \n",
    "plt.xticks(np.arange(0, 1.1, 0.2))\n",
    "plt.show()"
   ]
  },
  {
   "cell_type": "code",
   "execution_count": 20,
   "metadata": {},
   "outputs": [],
   "source": [
    "fv = featurevectors[key_train]\n",
    "featuretmp = fv['fv']\n",
    "ind1 = ismusic_tr; ind2 = isnonmusic_tr\n",
    "d1 = featuretmp[ind1, :]; d2 = featuretmp[ind2, :]\n",
    "m1 = np.mean(d1, axis=0); m2 = np.mean(d2, axis = 0)\n",
    "s1 = np.std(d1, axis=0); s2 = np.std(d2, axis=0)\n",
    "t = (m1-m2)/np.sqrt(np.square(s1)/d1.shape[0] + np.square(s2)/d2.shape[0])\n",
    "# t = (m1-m2)/np.sqrt(np.square(s1) + np.square(s2))\n",
    "fv['t'] = t\n",
    "MSI_order = np.argsort(-t)\n",
    "fv['MSI_order'] = MSI_order\n"
   ]
  },
  {
   "cell_type": "code",
   "execution_count": 21,
   "metadata": {},
   "outputs": [],
   "source": [
    "# get music selectivity \n",
    "def getMS(fv, ind1, ind2, drawfig, MSI_ind = None):\n",
    "    featuretmp = fv['fv']\n",
    "        \n",
    "    d1 = featuretmp[ind1]; d2 = featuretmp[ind2]\n",
    "    m1 = np.mean(d1, axis=0); m2 = np.mean(d2, axis = 0)\n",
    "    s1 = np.std(d1, axis=0); s2 = np.std(d2, axis=0)\n",
    "    t = (m1-m2)/np.sqrt(np.square(s1)/d1.shape[0] + np.square(s2)/d2.shape[0] )\n",
    "    fv['t'] = t\n",
    "    MSI_order = np.argsort(-t)\n",
    "    fv['MSI_order'] = MSI_order\n",
    "    if MSI_ind is None:\n",
    "        MSI_ind = MSI_order[0:32]\n",
    "    \n",
    "    fvtmp = np.mean(featuretmp[:,MSI_ind], axis=1)\n",
    "    data = [fvtmp[ind1], fvtmp[ind2]]\n",
    "    if drawfig:        \n",
    "        xlabels = ['Music', 'Nonmusic']\n",
    "        fig, ax1 = plt.subplots(nrows=1, ncols=1, figsize=(9, 4))\n",
    "        bplot1 = ax1.boxplot(data,\n",
    "                             sym='',\n",
    "                             vert=True,  # vertical box alignment\n",
    "                             patch_artist=True,  # fill with color\n",
    "                             labels=xlabels)  # will be used to label x-ticks\n",
    "        ax1.set_title('Rectangular box plot');plt.ylabel('Response');plt.xlabel('Input data')\n",
    "        colors = ['pink', 'lightblue', 'lightgreen']\n",
    "        for patch, color in zip(bplot1['boxes'], colors):\n",
    "            patch.set_facecolor(color)\n",
    "    return t, MSI_order, data\n"
   ]
  },
  {
   "cell_type": "code",
   "execution_count": 23,
   "metadata": {},
   "outputs": [
    {
     "name": "stderr",
     "output_type": "stream",
     "text": [
      "/home/kgspiano/.miniconda3/envs/music/lib/python3.7/site-packages/numpy/core/_asarray.py:102: VisibleDeprecationWarning: Creating an ndarray from ragged nested sequences (which is a list-or-tuple of lists-or-tuples-or ndarrays with different lengths or shapes) is deprecated. If you meant to do this, you must specify 'dtype=object' when creating the ndarray.\n",
      "  return array(a, dtype, copy=False, order=order)\n"
     ]
    },
    {
     "data": {
      "image/png": "[encoded data removed]",
      "text/plain": [
       "<Figure size 432x288 with 1 Axes>"
      ]
     },
     "metadata": {
      "needs_background": "light"
     },
     "output_type": "display_data"
    }
   ],
   "source": [
    "drawfig = False\n",
    "fv = featurevectors[key_train]; ind1 = fv['ismusic']; ind2 = fv['isnonmusic']\n",
    "t, MSI_order, data2 = getMS(fv, ind1, ind2, drawfig)    \n",
    "MSI_ind = MSI_order[0:32]\n",
    "\n",
    "fv = featurevectors[key_test]; ind1 = fv['ismusic']; ind2 = fv['isnonmusic']\n",
    "t, MSI_order, data1 = getMS(fv, ind1, ind2, drawfig,  MSI_ind = MSI_ind)     \n",
    "\n",
    "data = [data1[0], data2[0], data1[1], data2[1]]\n",
    "xlabels = ['Music \\n (train)', 'Music \\n (test)', 'Nonmusic \\n (train)', 'Nonmusic \\n (test)']\n",
    "fig, ax1 = plt.subplots(nrows=1, ncols=1)\n",
    "bplot1 = ax1.boxplot(data,\n",
    "                     sym='',\n",
    "                     vert=True,  # vertical box alignment\n",
    "                     patch_artist=True,  # fill with color\n",
    "                     labels=xlabels)  # will be used to label x-ticks\n",
    "ax1.set_xticklabels(xlabels)  \n",
    "plt.yticks(np.arange(0, 1.9, 0.5))\n",
    "plt.ylabel('Response');plt.xlabel('Input data')\n",
    "colors = ['pink', 'pink','lightblue','lightblue']\n",
    "for patch, color in zip(bplot1['boxes'], colors):\n",
    "    patch.set_facecolor(color)\n"
   ]
  },
  {
   "cell_type": "markdown",
   "metadata": {},
   "source": [
    "#### Linear Regression"
   ]
  },
  {
   "cell_type": "code",
   "execution_count": 24,
   "metadata": {},
   "outputs": [],
   "source": [
    "unitN = 256 # 256 units\n",
    "names = list(featurevectors.keys())"
   ]
  },
  {
   "cell_type": "code",
   "execution_count": 25,
   "metadata": {},
   "outputs": [],
   "source": [
    "aptmp = np.zeros(8)\n",
    "\n",
    "fv_tr = featurevectors[key_train]['fv']\n",
    "fv = featurevectors[key_test]['fv']\n",
    "MSI_order = featurevectors[key_test]['MSI_order']\n",
    "usedind_tr = ismusic_tr+isnonmusic_tr\n",
    "usedind = ismusic+isnonmusic\n",
    "\n",
    "for ii in np.arange(8):\n",
    "    k = ii*32\n",
    "    indrange = np.arange(k, k+32)\n",
    "    X = fv_tr[:, MSI_order[indrange]][usedind_tr, :]\n",
    "    y = ismusic_tr[usedind_tr]\n",
    "    clf = make_pipeline(StandardScaler(),\n",
    "                        LinearRegression())\n",
    "    clf.fit(X, y)\n",
    "    \n",
    "    X2 = fv[:, MSI_order[indrange]][usedind, :]\n",
    "    y2 = ismusic[usedind]\n",
    "    y_test = y2\n",
    "    y_score = clf.predict(X2)\n",
    "\n",
    "    ap = average_precision_score(y_test, y_score)\n",
    "    aptmp[ii] = ap\n"
   ]
  },
  {
   "cell_type": "code",
   "execution_count": 26,
   "metadata": {},
   "outputs": [
    {
     "data": {
      "image/png": "[encoded data removed]",
      "text/plain": [
       "<Figure size 432x288 with 1 Axes>"
      ]
     },
     "metadata": {
      "needs_background": "light"
     },
     "output_type": "display_data"
    }
   ],
   "source": [
    "data = [aptmp[0], aptmp[1], aptmp[2], aptmp[3]]#, AP\n",
    "datalabel = ['Top 12.5%', '- 25%', '-37.5%', '-50%']#, '-67.5%', '-75%', '-87.5%', '-100%']\n",
    "datamean = [np.mean(d) for d in data]\n",
    "datastd = [np.std(d) for d in data]\n",
    "fig, ax = plt.subplots()\n",
    "x_pos = np.arange(len(datamean))\n",
    "ax.bar(x_pos, datamean, align='center', alpha=0.5, ecolor='black', capsize=5)\n",
    "ax.set_ylabel('Average precision')\n",
    "ax.set_xticks(x_pos)\n",
    "plt.yticks([0, 0.2, 0.4, 0.6, 0.8, 1.0])\n",
    "ax.set_xticklabels(datalabel)\n",
    "ax.yaxis.grid(True)\n",
    "plt.tight_layout()\n"
   ]
  },
  {
   "cell_type": "markdown",
   "metadata": {},
   "source": [
    "### Sound quilt"
   ]
  },
  {
   "cell_type": "code",
   "execution_count": 27,
   "metadata": {},
   "outputs": [],
   "source": [
    "win_ms = 25 # 25 ms\n",
    "segment_size_in_win = 16\n",
    "win_length_smp = floor(win_ms/1000*samplingrate) # win length in sampling number\n",
    "olap_pts = win_length_smp\n",
    "max_shift = int(np.floor(win_length_smp/2))\n",
    "n_seg_total = floor(220500/win_length_smp/segment_size_in_win)\n",
    "half_olap = int(np.floor(win_length_smp/2))\n",
    "half_olap_2 = int(olap_pts-half_olap)\n",
    "hop_pts = win_length_smp*segment_size_in_win # size of segment (30xN)"
   ]
  },
  {
   "cell_type": "code",
   "execution_count": 28,
   "metadata": {},
   "outputs": [],
   "source": [
    "def reorder_segs(d, hop_pts, order, olap_pts, max_shift):\n",
    "    shifts = np.zeros((len(order)))\n",
    "\n",
    "    # pre-initialize output, including overlap beyond end\n",
    "    y = np.zeros((hop_pts*len(order)+half_olap_2))\n",
    "\n",
    "    # actual window is the non-overlapping part, plus half an overlap at each end\n",
    "\n",
    "    win = np.hstack((0.5*(1-np.cos(np.pi*np.arange(olap_pts)/olap_pts)), np.squeeze(np.ones((1, hop_pts-olap_pts))), 0.5*(np.cos(np.pi*np.arange(olap_pts)/olap_pts)+1))) \n",
    "\n",
    "    # ramping, plus cross-correlation optimization of alignment\n",
    "\n",
    "    # We construct the output frame by frame\n",
    "    # We choose the precise alignment of the next frame by\n",
    "    # cross-correlating in the overlap region\n",
    "\n",
    "    # Seed with the first window\n",
    "    # starting point of frame requested by <order>\n",
    "    dbase = (order[0])*hop_pts;\n",
    "    threeqwinix = np.arange(hop_pts+half_olap_2)\n",
    "    y[threeqwinix] = d[dbase + threeqwinix-1]* win[half_olap+threeqwinix]\n",
    "    \n",
    "    # indices of overlap region, relative to first \"real\" point\n",
    "    olap_ix = np.arange(-half_olap, half_olap_2)\n",
    "    # indices of full window, relative to first \"real\" point\n",
    "    win_ix  = np.arange(-half_olap, hop_pts+half_olap_2)\n",
    "\n",
    "    for f in np.arange(1,len(order)):\n",
    "\n",
    "        # starting point of frame requested by <order>\n",
    "        dbase = (order[f])*hop_pts;\n",
    "        # starting point of where it's going to go (ignoring overlap)\n",
    "        ybase = (f)*hop_pts;\n",
    "        olap_region = y[ybase+olap_ix];\n",
    "        # apply second window (that will be applied to final overlap choice)\n",
    "        olap_region = olap_region*win[0:len(olap_region)];\n",
    "        # cross-correlate\n",
    "        # what is the block of candidate overlap points from original signal?\n",
    "\n",
    "        cand_block = d[dbase+ np.arange((-half_olap-max_shift),(half_olap_2+max_shift))];\n",
    "        xc = np.convolve(cand_block, np.flipud(olap_region))#/np.sqrt(sum(np.square(olap_region)));  # normalize in case we want to plot\n",
    "\n",
    "        # Instead, first trim off the ends...\n",
    "        xc = xc[len(olap_region)+np.arange(0, (1+2*max_shift))];\n",
    "        # ... then find shift in that part only\n",
    "        shift = np.where(xc==np.max(xc))[0][0]-max_shift;\n",
    "\n",
    "        # overlap-add at that point\n",
    "        op_range = ybase + win_ix;\n",
    "        overlap_part = win * d[dbase +shift+win_ix]\n",
    "        y[op_range] = y[op_range] + overlap_part\n",
    "        shifts[f] = shift\n",
    "    y = y[0:(len(y)-half_olap_2)]\n",
    "    return y"
   ]
  },
  {
   "cell_type": "code",
   "execution_count": 29,
   "metadata": {},
   "outputs": [],
   "source": [
    "## Define mel spectrogram\n",
    "samplingrate = iter(val_loader).next()[0].shape[2]/10 # samplingrate, total 10 s\n",
    "winlen = int(np.round(samplingrate*1/40)) # winlen: 25 ms, hoplen: 25 ms\n",
    "mel_spectrogram2 = nn.Sequential(\n",
    "    ta.transforms.MelSpectrogram(n_mels=64, sample_rate = samplingrate, win_length = winlen, hop_length = winlen, n_fft = winlen, f_min = 0, f_max = 8000, normalized=False),\n",
    "    ta.transforms.AmplitudeToDB()\n",
    ")"
   ]
  },
  {
   "cell_type": "code",
   "execution_count": 30,
   "metadata": {},
   "outputs": [],
   "source": [
    "win_ms = 25 # 25 ms\n",
    "win_length_smp = floor(win_ms/1000*samplingrate) # win length in sampling number\n",
    "olap_pts = win_length_smp\n",
    "max_shift = int(np.floor(win_length_smp/2))\n"
   ]
  },
  {
   "cell_type": "code",
   "execution_count": 31,
   "metadata": {},
   "outputs": [],
   "source": [
    "# get order\n",
    "def get_feature_soundquilt(model, data_loader, segment_size_in_win):\n",
    "    with torch.no_grad():\n",
    "        featuretmp = []\n",
    "        for inputs, targets in tqdm(data_loader):\n",
    "\n",
    "            data_torch = inputs[:,:,:].float().to(opt.device)\n",
    "            outputtmp2 = mel_spectrogram2(inputs.float()).cpu().numpy() # mel-spectrogram data (no modulation)\n",
    "\n",
    "            if segment_size_in_win !=0:\n",
    "                \n",
    "                n_seg_total = floor(220500/win_length_smp/segment_size_in_win)\n",
    "                half_olap = int(np.floor(win_length_smp/2))\n",
    "                half_olap_2 = int(olap_pts-half_olap)\n",
    "                hop_pts = win_length_smp*segment_size_in_win \n",
    "                deltacalsize = 2 \n",
    "                seg_length_smp = hop_pts\n",
    "                \n",
    "                for i in np.arange(targets.shape[0]):\n",
    "                    source_s = data_torch.cpu().numpy()[i,0,:]\n",
    "                    meltmp = outputtmp2[i, 0, :, :] \n",
    "                    deltas = []\n",
    "                    for j in np.arange(n_seg_total-1):\n",
    "                        # calculate delta\n",
    "                        segtmp1 = meltmp[:, (j*segment_size_in_win):((j+1)*segment_size_in_win)] # jth segment of melspectrogram\n",
    "                        segtmp2 = meltmp[:, ((j+1)*segment_size_in_win):((j+2)*segment_size_in_win)] # j+1th segment of melspectrogram\n",
    "                        deltatmp = segtmp1[:,(segment_size_in_win-deltacalsize):segment_size_in_win] - \\\n",
    "                        segtmp2[:, 0:deltacalsize]\n",
    "                        deltas.append(np.sum(deltatmp*deltatmp))\n",
    "\n",
    "                    soundsample = data_torch[i,0,:].cpu().numpy()\n",
    "                    s_segments = []  # list of wav segments\n",
    "                    for k in np.arange(n_seg_total-1):\n",
    "                        if k ==0:\n",
    "                            initint = np.random.randint(len(deltas))\n",
    "                            order = []\n",
    "                            order.append(initint)\n",
    "                            delt = np.array(deltas) # delta\n",
    "                            delk = delt[initint]\n",
    "                            delt[initint] = np.nan\n",
    "\n",
    "                        else:\n",
    "                            tmp = abs(delt - delk) # find idx of similar delta\n",
    "                            tmp = np.nanargmin(tmp)\n",
    "                            order.append(tmp)\n",
    "                            delk = delt[tmp]\n",
    "                            delt[tmp] = np.nan\n",
    "                    quilted_s = reorder_segs(source_s, hop_pts, order,  olap_pts, max_shift)\n",
    "                    datatmp = np.zeros((data_torch.shape[2]))\n",
    "                    datatmp[0:quilted_s.shape[0]] = quilted_s\n",
    "                    datatmp[int(220500*0.8):data_torch.shape[2]] = 0\n",
    "                    data_torch[i,0,:] = torch.from_numpy(datatmp)\n",
    "            else:\n",
    "                data_torch[:,:,int(220500*0.8):data_torch.shape[2]] = 0\n",
    "            x = data_torch.float().to(opt.device)\n",
    "            features_blobs = {}\n",
    "            hooks = []\n",
    "            layers = [LOI]\n",
    "            for layer in layers:\n",
    "                m = get_module(model, layer)\n",
    "                def hook_feature(layer):\n",
    "                    def _hook(module, input, output):\n",
    "                        features_blobs[layer] = output.detach().cpu().numpy()\n",
    "                    return _hook\n",
    "                hooks.append(m.register_forward_hook(hook_feature(layer)))\n",
    "\n",
    "            with torch.no_grad():\n",
    "                model(x)\n",
    "                for hook in hooks:\n",
    "                    hook.remove()\n",
    "            activ = features_blobs[LOI] \n",
    "            if len(featuretmp)==0:\n",
    "                featuretmp = activ\n",
    "            else:    \n",
    "                featuretmp = np.concatenate((featuretmp, activ), axis = 0)\n",
    "        featuretmp = np.squeeze(featuretmp)\n",
    "        fv = {}\n",
    "        fv['fv'] = featuretmp\n",
    "        return fv\n"
   ]
  },
  {
   "cell_type": "code",
   "execution_count": 32,
   "metadata": {},
   "outputs": [
    {
     "data": {
      "application/vnd.jupyter.widget-view+json": {
       "model_id": "78119194c50649438908ffd8a0130931",
       "version_major": 2,
       "version_minor": 0
      },
      "text/plain": [
       "  0%|          | 0/550 [00:00<?, ?it/s]"
      ]
     },
     "metadata": {},
     "output_type": "display_data"
    },
    {
     "data": {
      "application/vnd.jupyter.widget-view+json": {
       "model_id": "dbbe4ef22c604c599349b2c05bfa622a",
       "version_major": 2,
       "version_minor": 0
      },
      "text/plain": [
       "  0%|          | 0/550 [00:00<?, ?it/s]"
      ]
     },
     "metadata": {},
     "output_type": "display_data"
    },
    {
     "data": {
      "application/vnd.jupyter.widget-view+json": {
       "model_id": "bf5a7962b3524443bfb8e7486a1aceb9",
       "version_major": 2,
       "version_minor": 0
      },
      "text/plain": [
       "  0%|          | 0/550 [00:00<?, ?it/s]"
      ]
     },
     "metadata": {},
     "output_type": "display_data"
    },
    {
     "data": {
      "application/vnd.jupyter.widget-view+json": {
       "model_id": "d729ecde39e148fb8387f19251856fc7",
       "version_major": 2,
       "version_minor": 0
      },
      "text/plain": [
       "  0%|          | 0/550 [00:00<?, ?it/s]"
      ]
     },
     "metadata": {},
     "output_type": "display_data"
    },
    {
     "data": {
      "application/vnd.jupyter.widget-view+json": {
       "model_id": "0f864f8afdfd414da7a16a339a4bf43b",
       "version_major": 2,
       "version_minor": 0
      },
      "text/plain": [
       "  0%|          | 0/550 [00:00<?, ?it/s]"
      ]
     },
     "metadata": {},
     "output_type": "display_data"
    },
    {
     "data": {
      "application/vnd.jupyter.widget-view+json": {
       "model_id": "88d2ff6224324df48f9c2637d96bf5ac",
       "version_major": 2,
       "version_minor": 0
      },
      "text/plain": [
       "  0%|          | 0/550 [00:00<?, ?it/s]"
      ]
     },
     "metadata": {},
     "output_type": "display_data"
    },
    {
     "data": {
      "application/vnd.jupyter.widget-view+json": {
       "model_id": "4ae04218b3294c62bafe066d3cd34c00",
       "version_major": 2,
       "version_minor": 0
      },
      "text/plain": [
       "  0%|          | 0/550 [00:00<?, ?it/s]"
      ]
     },
     "metadata": {},
     "output_type": "display_data"
    },
    {
     "name": "stdout",
     "output_type": "stream",
     "text": [
      "CPU times: user 4h 27min 19s, sys: 2min 17s, total: 4h 29min 37s\n",
      "Wall time: 50min 57s\n"
     ]
    }
   ],
   "source": [
    "%%time\n",
    "MSI_inds = []\n",
    "seg_sizes = [0, 2, 4, 8, 16, 32, 64]\n",
    "y_preds = np.zeros((len(seg_sizes), len(ismusic_tr)))\n",
    "resptmp2 = np.zeros((len(seg_sizes), len(ismusic_tr), 256))\n",
    "for ss, segment_size_in_win in enumerate(seg_sizes):\n",
    "\n",
    "    fv = get_feature_soundquilt(model, train_loader, segment_size_in_win)\n",
    "    X2 = fv['fv']\n",
    "    y = ismusic_tr\n",
    "    resptmp2[ss, :,:] = X2"
   ]
  },
  {
   "cell_type": "code",
   "execution_count": 33,
   "metadata": {},
   "outputs": [],
   "source": [
    "resp_to_music = resptmp2[:,ismusic_tr, :]\n",
    "resp_to_nonmusic = resptmp2[:,isnonmusic_tr, :]\n",
    "resps = np.zeros((4, len(seg_sizes)))\n",
    "\n",
    "name = key_test\n",
    "MSI_order = featurevectors[name]['MSI_order']\n",
    "MSI_ind = MSI_order[0:32]\n",
    "tmp = resp_to_music\n",
    "tmp = tmp[:,:,MSI_ind]\n",
    "tmp = np.mean(tmp, axis=1)\n",
    "tmp = np.mean(tmp, axis=1)\n",
    "resps[0, :] = tmp\n",
    "\n",
    "tmp = resp_to_nonmusic\n",
    "tmp = tmp[:,:,MSI_ind]\n",
    "tmp = np.mean(tmp, axis=1)\n",
    "tmp = np.mean(tmp, axis=1)\n",
    "resps[1, :] = tmp\n",
    "\n",
    "MSI_ind = MSI_order[-32:]\n",
    "tmp = resp_to_music[:,:,:]\n",
    "tmp = tmp[:,:,MSI_ind]\n",
    "tmp = np.mean(tmp, axis=1)\n",
    "tmp = np.mean(tmp, axis=1)\n",
    "resps[2, :] = tmp\n",
    "\n",
    "tmp = resp_to_nonmusic[:,:,:]\n",
    "tmp = tmp[:,:,MSI_ind]\n",
    "tmp = np.mean(tmp, axis=1)\n",
    "tmp = np.mean(tmp, axis=1)\n",
    "resps[3, :] = tmp\n",
    "resp_quilt_dict = {}\n",
    "resp_quilt_dict['trained_nomusic'] = resps\n"
   ]
  },
  {
   "cell_type": "code",
   "execution_count": 34,
   "metadata": {},
   "outputs": [
    {
     "data": {
      "image/png": "[encoded data removed]",
      "text/plain": [
       "<Figure size 576x288 with 2 Axes>"
      ]
     },
     "metadata": {
      "needs_background": "light"
     },
     "output_type": "display_data"
    }
   ],
   "source": [
    "cherryfull = [0.54509804, 0.        , 0.        , 1      ]\n",
    "sapphirefull = [0.        , 0.        , 0.50196078, 1      ]\n",
    "\n",
    "plt.figure(figsize = (8,4))\n",
    "plt.subplot(1,2,1)\n",
    "xrange = np.arange(1,7,1)\n",
    "xticklabels = (np.array(seg_sizes)[xrange]*25).tolist()\n",
    "xticklabels.append('Original')\n",
    "xrangeplot = np.arange(1,8,1)\n",
    "resptmp = resps[0,:] #np.mean(resptmp2, axis=0)\n",
    "plt.errorbar(xrange, resptmp[xrange], color = cherryfull, fmt='-', label='Music')\n",
    "\n",
    "plt.xticks(xrangeplot, xticklabels)\n",
    "plt.xlabel('Segment size [ms]')\n",
    "plt.ylabel('Average response')\n",
    "plt.errorbar(7, resptmp[0], color = cherryfull, fmt='.')\n",
    "\n",
    "resptmp = resps[1,:] #np.mean(resptmp2, axis=0)\n",
    "plt.errorbar(xrange, resptmp[xrange], color = sapphirefull, fmt='-', label='Non-music')\n",
    "\n",
    "plt.xlabel('Segment size [ms]')\n",
    "plt.ylabel('Average response')\n",
    "plt.errorbar(7, resptmp[0], color = sapphirefull, fmt='.')\n",
    "plt.xticks(xrangeplot, xticklabels)\n",
    "# plt.title('Sound quilt of non-music')\n",
    "plt.ylim(0, 1.0)\n",
    "plt.legend()\n",
    "# plt.show()\n",
    "\n",
    "plt.subplot(1,2,2)\n",
    "xticklabels = (np.array(seg_sizes)[xrange]*25).tolist()\n",
    "xticklabels.append('Original')\n",
    "xrangeplot = np.arange(1,8,1)\n",
    "resptmp = resps[2,:] \n",
    "plt.errorbar(xrange, resptmp[xrange], color = cherryfull, fmt='-', label='Music')\n",
    "plt.errorbar(7, resptmp[0], color = cherryfull, fmt='.')\n",
    "\n",
    "resptmp = resps[3,:]\n",
    "plt.errorbar(xrange, resptmp[xrange], color = sapphirefull, fmt='-', label='Non-music')\n",
    "plt.xlabel('Segment size [ms]')\n",
    "plt.ylabel('Average response')\n",
    "plt.errorbar(7, resptmp[0], color = sapphirefull, fmt='.')\n",
    "plt.xticks(xrangeplot, xticklabels)\n",
    "plt.ylim(0, 1.0)\n",
    "plt.legend()\n",
    "plt.tight_layout()\n"
   ]
  },
  {
   "cell_type": "markdown",
   "metadata": {},
   "source": [
    "### Ablation test"
   ]
  },
  {
   "cell_type": "code",
   "execution_count": 35,
   "metadata": {},
   "outputs": [],
   "source": [
    "def Ablation_test(modelused, data_loader, idx_ablation=None): # output: average precision & auc of each class\n",
    "    if idx_ablation is None:\n",
    "\n",
    "        evaluator = Evaluator(model=modelused)\n",
    "        with torch.no_grad():\n",
    "            test_statistics = evaluator.evaluate(data_loader)\n",
    "    else:\n",
    "        hooks = []\n",
    "        layers = [LOI] # Layers of interest\n",
    "        for layer in layers:\n",
    "            m = get_module(modelused, layer)\n",
    "            def hook_ablation(layer):\n",
    "                def _hook(module, input, output):\n",
    "                    output[:, idx_ablation, 0,0] = 0\n",
    "                return _hook\n",
    "            hooks.append(m.register_forward_hook(hook_ablation(layer)))\n",
    "        \n",
    "        # evaluation of MAP & MAUC\n",
    "        evaluator = Evaluator(modelused)\n",
    "        with torch.no_grad():\n",
    "            test_statistics = evaluator.evaluate(data_loader)\n",
    "        # removehook\n",
    "            for hook in hooks:\n",
    "                hook.remove()\n",
    "    print('MAP = ' + str(test_statistics['average_precision'].mean()))\n",
    "\n",
    "    return test_statistics #[test_statistics['average_precision'][label_used].mean(), test_statistics['auc'][label_used].mean()], test_statistics"
   ]
  },
  {
   "cell_type": "code",
   "execution_count": 36,
   "metadata": {},
   "outputs": [
    {
     "name": "stdout",
     "output_type": "stream",
     "text": [
      "MAP = 0.08023275595558287\n"
     ]
    },
    {
     "name": "stderr",
     "output_type": "stream",
     "text": [
      "/home/kgspiano/.miniconda3/envs/music/lib/python3.7/site-packages/ipykernel_launcher.py:17: DeprecationWarning: `np.int` is a deprecated alias for the builtin `int`. To silence this warning, use `int` by itself. Doing this will not modify any behavior and is safe. When replacing `np.int`, you may wish to use e.g. `np.int64` or `np.int32` to specify the precision. If you wish to review your current use, check the release note link for additional information.\n",
      "Deprecated in NumPy 1.20; for more details and guidance: https://numpy.org/devdocs/release/1.20.0-notes.html#deprecations\n"
     ]
    },
    {
     "name": "stdout",
     "output_type": "stream",
     "text": [
      "MAP = 0.07639079519771176\n",
      "MAP = 0.06703086724707905\n",
      "MAP = 0.07812563367308414\n",
      "MAP = 0.06965564878160552\n",
      "CPU times: user 18min 49s, sys: 15.6 s, total: 19min 4s\n",
      "Wall time: 8min 5s\n"
     ]
    }
   ],
   "source": [
    "%%time\n",
    "Accuracy = {}\n",
    "N_ablation = 32\n",
    "\n",
    "name = key_test\n",
    "if not (name in Accuracy):\n",
    "    Accuracy[name] = {}\n",
    "    \n",
    "# Baseline\n",
    "Accuracy[name]['Baseline'] = Ablation_test(model, test_loader)\n",
    "\n",
    "# Ablation based on MSI\n",
    "fv = featurevectors[name]; \n",
    "t = fv['t']\n",
    "tt = np.argsort(t)\n",
    "samplingrange_top = np.arange(unitN-1-N_ablation, unitN-1); \n",
    "samplingrange_bottom = np.arange(0, N_ablation); \n",
    "samplingrange_middle = np.arange((np.int(unitN/2)-np.int(N_ablation/2)), (np.int(unitN/2)+np.int(N_ablation/2)))\n",
    "\n",
    "Accuracy[name]['MSI bottom '+str(100*N_ablation/256) +'%'] = Ablation_test(model, test_loader, idx_ablation = tt[samplingrange_bottom])\n",
    "Accuracy[name]['MSI top '+str(100*N_ablation/256) +'%'] = Ablation_test(model, test_loader, idx_ablation = tt[samplingrange_top])\n",
    "Accuracy[name]['MSI middle '+str(100*N_ablation/256) +'%'] = Ablation_test(model, test_loader, idx_ablation = tt[samplingrange_middle])\n",
    "\n",
    "# Ablation based on L1norm\n",
    "n = 1\n",
    "Lnnorm = np.mean(np.power(abs(featurevectors[name]['fv']), n), axis=0)\n",
    "tt = np.argsort(Lnnorm) \n",
    "samplingrange_top = np.arange(unitN-1-N_ablation, unitN-1); \n",
    "Accuracy[name]['L' +str(n) +'norm, top '+str(100*N_ablation/256) +'%'] = Ablation_test(model, test_loader, idx_ablation = tt[samplingrange_top])\n"
   ]
  },
  {
   "cell_type": "code",
   "execution_count": 37,
   "metadata": {},
   "outputs": [],
   "source": [
    "averageprecisions = np.zeros((len(list(Accuracy[name].keys())), labelismusic.shape[0])) # iteration x 527 classes\n",
    "D = Accuracy[name]\n",
    "for i, key in enumerate(list(D.keys())):\n",
    "    averageprecisions[i, :] = D[key]['average_precision']"
   ]
  },
  {
   "cell_type": "code",
   "execution_count": 38,
   "metadata": {},
   "outputs": [
    {
     "data": {
      "text/plain": [
       "(5,)"
      ]
     },
     "execution_count": 38,
     "metadata": {},
     "output_type": "execute_result"
    }
   ],
   "source": [
    "AP = np.mean(averageprecisions[:,~labelismusic], axis=1)\n",
    "AP.shape"
   ]
  },
  {
   "cell_type": "code",
   "execution_count": 39,
   "metadata": {},
   "outputs": [
    {
     "data": {
      "image/png": "[encoded data removed]",
      "text/plain": [
       "<Figure size 432x288 with 1 Axes>"
      ]
     },
     "metadata": {
      "needs_background": "light"
     },
     "output_type": "display_data"
    }
   ],
   "source": [
    "\n",
    "# APs\n",
    "AP = np.mean(averageprecisions[:,~labelismusic], axis=1)\n",
    "data = [AP[0], AP[1],AP[2],AP[3],AP[4]]#, AP\n",
    "datalabel = ['Baseline',\n",
    " 'MSI \\n bot. 12.5%',\n",
    " 'MSI \\n top 12.5%',\n",
    " 'MSI \\n mid. 12.5%',\n",
    " 'L1norm \\n top 12.5%']\n",
    "datamean = [np.mean(d) for d in data]\n",
    "datastd = [np.std(d) for d in data]\n",
    "fig, ax = plt.subplots()\n",
    "x_pos = np.arange(len(datamean))\n",
    "ax.bar(x_pos, datamean, align='center', alpha=0.5, ecolor='black', capsize=5)\n",
    "ax.set_ylabel('Average precision')\n",
    "ax.set_xticks(x_pos)\n",
    "ax.set_xticklabels(datalabel)\n",
    "ax.set_yticks(np.arange(0.05, 0.131, 0.03))\n",
    "plt.ylim([0.05, 0.13])\n",
    "plt.tight_layout()\n",
    "\n",
    "\n"
   ]
  }
 ],
 "metadata": {
  "kernelspec": {
   "display_name": "music",
   "language": "python",
   "name": "music"
  },
  "language_info": {
   "codemirror_mode": {
    "name": "ipython",
    "version": 3
   },
   "file_extension": ".py",
   "mimetype": "text/x-python",
   "name": "python",
   "nbconvert_exporter": "python",
   "pygments_lexer": "ipython3",
   "version": "3.7.11"
  }
 },
 "nbformat": 4,
 "nbformat_minor": 4
}
